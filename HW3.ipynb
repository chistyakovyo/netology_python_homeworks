{
 "cells": [
  {
   "cell_type": "markdown",
   "metadata": {},
   "source": [
    "1.Дан список вида:\n",
    "data = [\n",
    "[13, 25, 23, 34],\n",
    "[45, 32, 44, 47],\n",
    "[12, 33, 23, 95],\n",
    "[13, 53, 34, 35],\n",
    "]\n",
    "\n",
    "Напишите функцию, которая возвращает сумму элементов на диагонали. Т. е. 13+32+23+35."
   ]
  },
  {
   "cell_type": "code",
   "execution_count": 14,
   "metadata": {},
   "outputs": [
    {
     "name": "stdout",
     "output_type": "stream",
     "text": [
      "Сумма элементов по диагонали - 103\n"
     ]
    }
   ],
   "source": [
    "data = [ [13, 25, 23, 34], [45, 32, 44, 47], [12, 33, 23, 95], [13, 53, 34, 35], ]\n",
    "\n",
    "i = 0\n",
    "diagonal_sum = 0\n",
    "\n",
    "while i < len(data):\n",
    "    diagonal_sum += data[i][i]\n",
    "    i += 1\n",
    "\n",
    "print('Сумма элементов по диагонали - {}'.format(diagonal_sum))"
   ]
  },
  {
   "cell_type": "markdown",
   "metadata": {},
   "source": [
    "2.Дан список чисел, часть из которых имеют строковый тип или содержат буквы. Напишите функцию, которая возвращает сумму квадратов элементов, которые могут быть числами."
   ]
  },
  {
   "cell_type": "code",
   "execution_count": 13,
   "metadata": {},
   "outputs": [
    {
     "name": "stdout",
     "output_type": "stream",
     "text": [
      "Сумма квадратов числовых элементов - 401\n"
     ]
    }
   ],
   "source": [
    "data = [1, '5', 'abc', 20, '2']\n",
    "\n",
    "sum_of_squere = 0\n",
    "\n",
    "for i in data:\n",
    "    if type(i) != str:\n",
    "        sum_of_squere += i**2\n",
    "        \n",
    "print('Сумма квадратов числовых элементов - {}'.format(sum_of_squere))"
   ]
  },
  {
   "cell_type": "markdown",
   "metadata": {},
   "source": [
    "3.Напишите функцию, которая возвращает название валюты (поле ‘Name’) с максимальным значением курса с помощью сервиса https://www.cbr-xml-daily.ru/daily_json.js"
   ]
  },
  {
   "cell_type": "code",
   "execution_count": 1,
   "metadata": {},
   "outputs": [
    {
     "name": "stdout",
     "output_type": "stream",
     "text": [
      "У валюты DKK максимальное значение курса - 97.6294\n"
     ]
    }
   ],
   "source": [
    "import requests\n",
    "import json\n",
    "\n",
    "current_courses = requests.get('https://www.cbr-xml-daily.ru/daily_json.js')\n",
    "\n",
    "max_course = 0\n",
    "max_course_name = 'name'\n",
    "\n",
    "for i in current_courses.json()['Valute']:\n",
    "    if current_courses.json()['Valute'][i]['Value'] > max_course:\n",
    "        max_course = current_courses.json()['Valute'][i]['Value']\n",
    "        max_course_name = i\n",
    "\n",
    "print('У валюты {} максимальное значение курса - {}'.format(max_course_name,max_course))"
   ]
  },
  {
   "cell_type": "markdown",
   "metadata": {},
   "source": [
    "4.Последнее упражнение с занятия\n",
    "\n",
    "Добавьте в класс еще один формат, который возвращает название валюты (например, ‘Евро’).\n",
    "\n",
    "Добавьте в класс параметр diff (со значениями True или False), который в случае значения True в методах eur и usd будет возвращать не курс валюты, а изменение по сравнению в прошлым значением."
   ]
  },
  {
   "cell_type": "code",
   "execution_count": 2,
   "metadata": {},
   "outputs": [],
   "source": [
    "class Rate:\n",
    "    def __init__(self, format='value'):\n",
    "        self.format = format\n",
    "    \n",
    "    def exchange_rates(self):\n",
    "        \"\"\"\n",
    "        Возвращает ответ сервиса с информацией о валютах в виде:\n",
    "        \n",
    "        {\n",
    "            'AMD': {\n",
    "                'CharCode': 'AMD',\n",
    "                'ID': 'R01060',\n",
    "                'Name': 'Армянских драмов',\n",
    "                'Nominal': 100,\n",
    "                'NumCode': '051',\n",
    "                'Previous': 14.103,\n",
    "                'Value': 14.0879\n",
    "                },\n",
    "            ...\n",
    "        }\n",
    "        \"\"\"\n",
    "        r = requests.get('https://www.cbr-xml-daily.ru/daily_json.js')\n",
    "        return r.json()['Valute']\n",
    "    \n",
    "    def make_format(self, currency):\n",
    "        \"\"\"\n",
    "        Возвращает информацию о валюте currency в двух вариантах:\n",
    "        - полная информация о валюте при self.format = 'full':\n",
    "        Rate('full').make_format('EUR')\n",
    "        {\n",
    "            'CharCode': 'EUR',\n",
    "            'ID': 'R01239',\n",
    "            'Name': 'Евро',\n",
    "            'Nominal': 1,\n",
    "            'NumCode': '978',\n",
    "            'Previous': 79.6765,\n",
    "            'Value': 79.4966\n",
    "        }\n",
    "        \n",
    "        Rate('value').make_format('EUR')\n",
    "        79.4966\n",
    "        \"\"\"\n",
    "        response = self.exchange_rates()\n",
    "        \n",
    "        if currency in response:\n",
    "            if self.format == 'full':\n",
    "                return response[currency]\n",
    "            \n",
    "            if self.format == 'value':\n",
    "                return response[currency]['Value']\n",
    "        \n",
    "        return 'Error'\n",
    "    \n",
    "    def eur(self):\n",
    "        \"\"\"Возвращает курс евро на сегодня в формате self.format\"\"\"\n",
    "        return self.make_format('EUR')\n",
    "    \n",
    "    def usd(self):\n",
    "        \"\"\"Возвращает курс доллара на сегодня в формате self.format\"\"\"\n",
    "        return self.make_format('USD')\n",
    "    \n",
    "    def current_name(self, currency):\n",
    "        \"\"\"Возвращает название валюты\"\"\"\n",
    "        response = self.exchange_rates()\n",
    "        name = response[currency]\n",
    "        return self.exchange_rates()[currency]['Name']\n",
    "    \n"
   ]
  },
  {
   "cell_type": "code",
   "execution_count": 5,
   "metadata": {},
   "outputs": [
    {
     "name": "stdout",
     "output_type": "stream",
     "text": [
      "Название валюты USD - Доллар США\n"
     ]
    }
   ],
   "source": [
    "curr = Rate()\n",
    "currency = 'USD'\n",
    "currency_name = curr.current_name(currency)\n",
    "\n",
    "print('Название валюты {} - {}'.format(currency,currency_name))"
   ]
  },
  {
   "cell_type": "markdown",
   "metadata": {},
   "source": [
    "5.Напишите функцию, возвращающую сумму первых n чисел Фибоначчи"
   ]
  },
  {
   "cell_type": "code",
   "execution_count": 54,
   "metadata": {},
   "outputs": [
    {
     "data": {
      "text/plain": [
       "12"
      ]
     },
     "execution_count": 54,
     "metadata": {},
     "output_type": "execute_result"
    }
   ],
   "source": [
    "\n",
    "def fibonachi(n):\n",
    "    if n in [1,2]:\n",
    "        return 1\n",
    "    return fibonachi(n-1) + fibonachi(n-2)\n",
    "\n",
    "def sum_fibonachi(n):\n",
    "    sum_of_first_n_fibonachi = [fibonachi(i) for i in range(1, n+1)]\n",
    "    return sum(sum_of_first_n_fibonachi)\n",
    "\n",
    "sum_fibonachi(5)"
   ]
  },
  {
   "cell_type": "markdown",
   "metadata": {},
   "source": [
    "6.Напишите функцию, преобразующую произвольный список вида [‘2018-01-01’, ‘yandex’, ‘cpc’, 100] в словарь {‘2018-01-01’: {‘yandex’: {‘cpc’: 100}}}"
   ]
  },
  {
   "cell_type": "code",
   "execution_count": 37,
   "metadata": {},
   "outputs": [
    {
     "data": {
      "text/plain": [
       "{'2018-01-01': {'yandex': {'cpc': {100: None}}}}"
      ]
     },
     "execution_count": 37,
     "metadata": {},
     "output_type": "execute_result"
    }
   ],
   "source": [
    "list_ = ['2018-01-01', 'yandex', 'cpc', 100]\n",
    "\n",
    "def split(data):\n",
    "    if data:\n",
    "        head, *tail = data\n",
    "        return {head: split(tail)}\n",
    "\n",
    "    \n",
    "split(list_ )"
   ]
  },
  {
   "cell_type": "code",
   "execution_count": null,
   "metadata": {},
   "outputs": [],
   "source": []
  }
 ],
 "metadata": {
  "kernelspec": {
   "display_name": "Python 3",
   "language": "python",
   "name": "python3"
  },
  "language_info": {
   "codemirror_mode": {
    "name": "ipython",
    "version": 3
   },
   "file_extension": ".py",
   "mimetype": "text/x-python",
   "name": "python",
   "nbconvert_exporter": "python",
   "pygments_lexer": "ipython3",
   "version": "3.6.5"
  }
 },
 "nbformat": 4,
 "nbformat_minor": 2
}
