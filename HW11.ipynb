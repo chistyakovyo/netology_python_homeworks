{
 "cells": [
  {
   "cell_type": "markdown",
   "metadata": {
    "colab_type": "text",
    "id": "eY5OAxFSfZ9j"
   },
   "source": [
    "# Домашняя работа №4"
   ]
  },
  {
   "cell_type": "markdown",
   "metadata": {
    "colab_type": "text",
    "id": "bozSzxpJfgaR"
   },
   "source": [
    "Для датасета kaggle, Credit Card Fraud Detection"
   ]
  },
  {
   "cell_type": "code",
   "execution_count": 95,
   "metadata": {},
   "outputs": [],
   "source": [
    "import pandas as pd\n",
    "import numpy as np\n",
    "import matplotlib.pyplot as plt\n",
    "import seaborn as sns\n",
    "import warnings\n",
    "warnings.filterwarnings('ignore')\n",
    "\n",
    "from sklearn.cross_validation import train_test_split\n",
    "from sklearn.linear_model import LinearRegression\n",
    "from sklearn.metrics import accuracy_score\n",
    "\n",
    "%matplotlib inline"
   ]
  },
  {
   "cell_type": "markdown",
   "metadata": {
    "colab_type": "text",
    "id": "qvuEya_qflkG"
   },
   "source": [
    "**1. Загрузить датасет**"
   ]
  },
  {
   "cell_type": "code",
   "execution_count": 2,
   "metadata": {},
   "outputs": [
    {
     "data": {
      "text/html": [
       "<div>\n",
       "<style scoped>\n",
       "    .dataframe tbody tr th:only-of-type {\n",
       "        vertical-align: middle;\n",
       "    }\n",
       "\n",
       "    .dataframe tbody tr th {\n",
       "        vertical-align: top;\n",
       "    }\n",
       "\n",
       "    .dataframe thead th {\n",
       "        text-align: right;\n",
       "    }\n",
       "</style>\n",
       "<table border=\"1\" class=\"dataframe\">\n",
       "  <thead>\n",
       "    <tr style=\"text-align: right;\">\n",
       "      <th></th>\n",
       "      <th>Time</th>\n",
       "      <th>V1</th>\n",
       "      <th>V2</th>\n",
       "      <th>V3</th>\n",
       "      <th>V4</th>\n",
       "      <th>V5</th>\n",
       "      <th>V6</th>\n",
       "      <th>V7</th>\n",
       "      <th>V8</th>\n",
       "      <th>V9</th>\n",
       "      <th>...</th>\n",
       "      <th>V21</th>\n",
       "      <th>V22</th>\n",
       "      <th>V23</th>\n",
       "      <th>V24</th>\n",
       "      <th>V25</th>\n",
       "      <th>V26</th>\n",
       "      <th>V27</th>\n",
       "      <th>V28</th>\n",
       "      <th>Amount</th>\n",
       "      <th>Class</th>\n",
       "    </tr>\n",
       "  </thead>\n",
       "  <tbody>\n",
       "    <tr>\n",
       "      <th>0</th>\n",
       "      <td>0.0</td>\n",
       "      <td>-1.359807</td>\n",
       "      <td>-0.072781</td>\n",
       "      <td>2.536347</td>\n",
       "      <td>1.378155</td>\n",
       "      <td>-0.338321</td>\n",
       "      <td>0.462388</td>\n",
       "      <td>0.239599</td>\n",
       "      <td>0.098698</td>\n",
       "      <td>0.363787</td>\n",
       "      <td>...</td>\n",
       "      <td>-0.018307</td>\n",
       "      <td>0.277838</td>\n",
       "      <td>-0.110474</td>\n",
       "      <td>0.066928</td>\n",
       "      <td>0.128539</td>\n",
       "      <td>-0.189115</td>\n",
       "      <td>0.133558</td>\n",
       "      <td>-0.021053</td>\n",
       "      <td>149.62</td>\n",
       "      <td>0</td>\n",
       "    </tr>\n",
       "    <tr>\n",
       "      <th>1</th>\n",
       "      <td>0.0</td>\n",
       "      <td>1.191857</td>\n",
       "      <td>0.266151</td>\n",
       "      <td>0.166480</td>\n",
       "      <td>0.448154</td>\n",
       "      <td>0.060018</td>\n",
       "      <td>-0.082361</td>\n",
       "      <td>-0.078803</td>\n",
       "      <td>0.085102</td>\n",
       "      <td>-0.255425</td>\n",
       "      <td>...</td>\n",
       "      <td>-0.225775</td>\n",
       "      <td>-0.638672</td>\n",
       "      <td>0.101288</td>\n",
       "      <td>-0.339846</td>\n",
       "      <td>0.167170</td>\n",
       "      <td>0.125895</td>\n",
       "      <td>-0.008983</td>\n",
       "      <td>0.014724</td>\n",
       "      <td>2.69</td>\n",
       "      <td>0</td>\n",
       "    </tr>\n",
       "    <tr>\n",
       "      <th>2</th>\n",
       "      <td>1.0</td>\n",
       "      <td>-1.358354</td>\n",
       "      <td>-1.340163</td>\n",
       "      <td>1.773209</td>\n",
       "      <td>0.379780</td>\n",
       "      <td>-0.503198</td>\n",
       "      <td>1.800499</td>\n",
       "      <td>0.791461</td>\n",
       "      <td>0.247676</td>\n",
       "      <td>-1.514654</td>\n",
       "      <td>...</td>\n",
       "      <td>0.247998</td>\n",
       "      <td>0.771679</td>\n",
       "      <td>0.909412</td>\n",
       "      <td>-0.689281</td>\n",
       "      <td>-0.327642</td>\n",
       "      <td>-0.139097</td>\n",
       "      <td>-0.055353</td>\n",
       "      <td>-0.059752</td>\n",
       "      <td>378.66</td>\n",
       "      <td>0</td>\n",
       "    </tr>\n",
       "    <tr>\n",
       "      <th>3</th>\n",
       "      <td>1.0</td>\n",
       "      <td>-0.966272</td>\n",
       "      <td>-0.185226</td>\n",
       "      <td>1.792993</td>\n",
       "      <td>-0.863291</td>\n",
       "      <td>-0.010309</td>\n",
       "      <td>1.247203</td>\n",
       "      <td>0.237609</td>\n",
       "      <td>0.377436</td>\n",
       "      <td>-1.387024</td>\n",
       "      <td>...</td>\n",
       "      <td>-0.108300</td>\n",
       "      <td>0.005274</td>\n",
       "      <td>-0.190321</td>\n",
       "      <td>-1.175575</td>\n",
       "      <td>0.647376</td>\n",
       "      <td>-0.221929</td>\n",
       "      <td>0.062723</td>\n",
       "      <td>0.061458</td>\n",
       "      <td>123.50</td>\n",
       "      <td>0</td>\n",
       "    </tr>\n",
       "    <tr>\n",
       "      <th>4</th>\n",
       "      <td>2.0</td>\n",
       "      <td>-1.158233</td>\n",
       "      <td>0.877737</td>\n",
       "      <td>1.548718</td>\n",
       "      <td>0.403034</td>\n",
       "      <td>-0.407193</td>\n",
       "      <td>0.095921</td>\n",
       "      <td>0.592941</td>\n",
       "      <td>-0.270533</td>\n",
       "      <td>0.817739</td>\n",
       "      <td>...</td>\n",
       "      <td>-0.009431</td>\n",
       "      <td>0.798278</td>\n",
       "      <td>-0.137458</td>\n",
       "      <td>0.141267</td>\n",
       "      <td>-0.206010</td>\n",
       "      <td>0.502292</td>\n",
       "      <td>0.219422</td>\n",
       "      <td>0.215153</td>\n",
       "      <td>69.99</td>\n",
       "      <td>0</td>\n",
       "    </tr>\n",
       "  </tbody>\n",
       "</table>\n",
       "<p>5 rows × 31 columns</p>\n",
       "</div>"
      ],
      "text/plain": [
       "   Time        V1        V2        V3        V4        V5        V6        V7  \\\n",
       "0   0.0 -1.359807 -0.072781  2.536347  1.378155 -0.338321  0.462388  0.239599   \n",
       "1   0.0  1.191857  0.266151  0.166480  0.448154  0.060018 -0.082361 -0.078803   \n",
       "2   1.0 -1.358354 -1.340163  1.773209  0.379780 -0.503198  1.800499  0.791461   \n",
       "3   1.0 -0.966272 -0.185226  1.792993 -0.863291 -0.010309  1.247203  0.237609   \n",
       "4   2.0 -1.158233  0.877737  1.548718  0.403034 -0.407193  0.095921  0.592941   \n",
       "\n",
       "         V8        V9  ...         V21       V22       V23       V24  \\\n",
       "0  0.098698  0.363787  ...   -0.018307  0.277838 -0.110474  0.066928   \n",
       "1  0.085102 -0.255425  ...   -0.225775 -0.638672  0.101288 -0.339846   \n",
       "2  0.247676 -1.514654  ...    0.247998  0.771679  0.909412 -0.689281   \n",
       "3  0.377436 -1.387024  ...   -0.108300  0.005274 -0.190321 -1.175575   \n",
       "4 -0.270533  0.817739  ...   -0.009431  0.798278 -0.137458  0.141267   \n",
       "\n",
       "        V25       V26       V27       V28  Amount  Class  \n",
       "0  0.128539 -0.189115  0.133558 -0.021053  149.62      0  \n",
       "1  0.167170  0.125895 -0.008983  0.014724    2.69      0  \n",
       "2 -0.327642 -0.139097 -0.055353 -0.059752  378.66      0  \n",
       "3  0.647376 -0.221929  0.062723  0.061458  123.50      0  \n",
       "4 -0.206010  0.502292  0.219422  0.215153   69.99      0  \n",
       "\n",
       "[5 rows x 31 columns]"
      ]
     },
     "execution_count": 2,
     "metadata": {},
     "output_type": "execute_result"
    }
   ],
   "source": [
    "data = pd.read_csv('creditcard.csv')\n",
    "data.head()"
   ]
  },
  {
   "cell_type": "code",
   "execution_count": 37,
   "metadata": {},
   "outputs": [
    {
     "data": {
      "text/html": [
       "<div>\n",
       "<style scoped>\n",
       "    .dataframe tbody tr th:only-of-type {\n",
       "        vertical-align: middle;\n",
       "    }\n",
       "\n",
       "    .dataframe tbody tr th {\n",
       "        vertical-align: top;\n",
       "    }\n",
       "\n",
       "    .dataframe thead th {\n",
       "        text-align: right;\n",
       "    }\n",
       "</style>\n",
       "<table border=\"1\" class=\"dataframe\">\n",
       "  <thead>\n",
       "    <tr style=\"text-align: right;\">\n",
       "      <th></th>\n",
       "      <th>Time</th>\n",
       "      <th>V1</th>\n",
       "      <th>V2</th>\n",
       "      <th>V3</th>\n",
       "      <th>V4</th>\n",
       "      <th>V5</th>\n",
       "      <th>V6</th>\n",
       "      <th>V7</th>\n",
       "      <th>V8</th>\n",
       "      <th>V9</th>\n",
       "      <th>...</th>\n",
       "      <th>V21</th>\n",
       "      <th>V22</th>\n",
       "      <th>V23</th>\n",
       "      <th>V24</th>\n",
       "      <th>V25</th>\n",
       "      <th>V26</th>\n",
       "      <th>V27</th>\n",
       "      <th>V28</th>\n",
       "      <th>Amount</th>\n",
       "      <th>Class</th>\n",
       "    </tr>\n",
       "  </thead>\n",
       "  <tbody>\n",
       "    <tr>\n",
       "      <th>count</th>\n",
       "      <td>284807.000000</td>\n",
       "      <td>2.848070e+05</td>\n",
       "      <td>2.848070e+05</td>\n",
       "      <td>2.848070e+05</td>\n",
       "      <td>2.848070e+05</td>\n",
       "      <td>2.848070e+05</td>\n",
       "      <td>2.848070e+05</td>\n",
       "      <td>2.848070e+05</td>\n",
       "      <td>2.848070e+05</td>\n",
       "      <td>2.848070e+05</td>\n",
       "      <td>...</td>\n",
       "      <td>2.848070e+05</td>\n",
       "      <td>2.848070e+05</td>\n",
       "      <td>2.848070e+05</td>\n",
       "      <td>2.848070e+05</td>\n",
       "      <td>2.848070e+05</td>\n",
       "      <td>2.848070e+05</td>\n",
       "      <td>2.848070e+05</td>\n",
       "      <td>2.848070e+05</td>\n",
       "      <td>284807.000000</td>\n",
       "      <td>284807.000000</td>\n",
       "    </tr>\n",
       "    <tr>\n",
       "      <th>mean</th>\n",
       "      <td>94813.859575</td>\n",
       "      <td>3.919560e-15</td>\n",
       "      <td>5.688174e-16</td>\n",
       "      <td>-8.769071e-15</td>\n",
       "      <td>2.782312e-15</td>\n",
       "      <td>-1.552563e-15</td>\n",
       "      <td>2.010663e-15</td>\n",
       "      <td>-1.694249e-15</td>\n",
       "      <td>-1.927028e-16</td>\n",
       "      <td>-3.137024e-15</td>\n",
       "      <td>...</td>\n",
       "      <td>1.537294e-16</td>\n",
       "      <td>7.959909e-16</td>\n",
       "      <td>5.367590e-16</td>\n",
       "      <td>4.458112e-15</td>\n",
       "      <td>1.453003e-15</td>\n",
       "      <td>1.699104e-15</td>\n",
       "      <td>-3.660161e-16</td>\n",
       "      <td>-1.206049e-16</td>\n",
       "      <td>88.349619</td>\n",
       "      <td>0.001727</td>\n",
       "    </tr>\n",
       "    <tr>\n",
       "      <th>std</th>\n",
       "      <td>47488.145955</td>\n",
       "      <td>1.958696e+00</td>\n",
       "      <td>1.651309e+00</td>\n",
       "      <td>1.516255e+00</td>\n",
       "      <td>1.415869e+00</td>\n",
       "      <td>1.380247e+00</td>\n",
       "      <td>1.332271e+00</td>\n",
       "      <td>1.237094e+00</td>\n",
       "      <td>1.194353e+00</td>\n",
       "      <td>1.098632e+00</td>\n",
       "      <td>...</td>\n",
       "      <td>7.345240e-01</td>\n",
       "      <td>7.257016e-01</td>\n",
       "      <td>6.244603e-01</td>\n",
       "      <td>6.056471e-01</td>\n",
       "      <td>5.212781e-01</td>\n",
       "      <td>4.822270e-01</td>\n",
       "      <td>4.036325e-01</td>\n",
       "      <td>3.300833e-01</td>\n",
       "      <td>250.120109</td>\n",
       "      <td>0.041527</td>\n",
       "    </tr>\n",
       "    <tr>\n",
       "      <th>min</th>\n",
       "      <td>0.000000</td>\n",
       "      <td>-5.640751e+01</td>\n",
       "      <td>-7.271573e+01</td>\n",
       "      <td>-4.832559e+01</td>\n",
       "      <td>-5.683171e+00</td>\n",
       "      <td>-1.137433e+02</td>\n",
       "      <td>-2.616051e+01</td>\n",
       "      <td>-4.355724e+01</td>\n",
       "      <td>-7.321672e+01</td>\n",
       "      <td>-1.343407e+01</td>\n",
       "      <td>...</td>\n",
       "      <td>-3.483038e+01</td>\n",
       "      <td>-1.093314e+01</td>\n",
       "      <td>-4.480774e+01</td>\n",
       "      <td>-2.836627e+00</td>\n",
       "      <td>-1.029540e+01</td>\n",
       "      <td>-2.604551e+00</td>\n",
       "      <td>-2.256568e+01</td>\n",
       "      <td>-1.543008e+01</td>\n",
       "      <td>0.000000</td>\n",
       "      <td>0.000000</td>\n",
       "    </tr>\n",
       "    <tr>\n",
       "      <th>25%</th>\n",
       "      <td>54201.500000</td>\n",
       "      <td>-9.203734e-01</td>\n",
       "      <td>-5.985499e-01</td>\n",
       "      <td>-8.903648e-01</td>\n",
       "      <td>-8.486401e-01</td>\n",
       "      <td>-6.915971e-01</td>\n",
       "      <td>-7.682956e-01</td>\n",
       "      <td>-5.540759e-01</td>\n",
       "      <td>-2.086297e-01</td>\n",
       "      <td>-6.430976e-01</td>\n",
       "      <td>...</td>\n",
       "      <td>-2.283949e-01</td>\n",
       "      <td>-5.423504e-01</td>\n",
       "      <td>-1.618463e-01</td>\n",
       "      <td>-3.545861e-01</td>\n",
       "      <td>-3.171451e-01</td>\n",
       "      <td>-3.269839e-01</td>\n",
       "      <td>-7.083953e-02</td>\n",
       "      <td>-5.295979e-02</td>\n",
       "      <td>5.600000</td>\n",
       "      <td>0.000000</td>\n",
       "    </tr>\n",
       "    <tr>\n",
       "      <th>50%</th>\n",
       "      <td>84692.000000</td>\n",
       "      <td>1.810880e-02</td>\n",
       "      <td>6.548556e-02</td>\n",
       "      <td>1.798463e-01</td>\n",
       "      <td>-1.984653e-02</td>\n",
       "      <td>-5.433583e-02</td>\n",
       "      <td>-2.741871e-01</td>\n",
       "      <td>4.010308e-02</td>\n",
       "      <td>2.235804e-02</td>\n",
       "      <td>-5.142873e-02</td>\n",
       "      <td>...</td>\n",
       "      <td>-2.945017e-02</td>\n",
       "      <td>6.781943e-03</td>\n",
       "      <td>-1.119293e-02</td>\n",
       "      <td>4.097606e-02</td>\n",
       "      <td>1.659350e-02</td>\n",
       "      <td>-5.213911e-02</td>\n",
       "      <td>1.342146e-03</td>\n",
       "      <td>1.124383e-02</td>\n",
       "      <td>22.000000</td>\n",
       "      <td>0.000000</td>\n",
       "    </tr>\n",
       "    <tr>\n",
       "      <th>75%</th>\n",
       "      <td>139320.500000</td>\n",
       "      <td>1.315642e+00</td>\n",
       "      <td>8.037239e-01</td>\n",
       "      <td>1.027196e+00</td>\n",
       "      <td>7.433413e-01</td>\n",
       "      <td>6.119264e-01</td>\n",
       "      <td>3.985649e-01</td>\n",
       "      <td>5.704361e-01</td>\n",
       "      <td>3.273459e-01</td>\n",
       "      <td>5.971390e-01</td>\n",
       "      <td>...</td>\n",
       "      <td>1.863772e-01</td>\n",
       "      <td>5.285536e-01</td>\n",
       "      <td>1.476421e-01</td>\n",
       "      <td>4.395266e-01</td>\n",
       "      <td>3.507156e-01</td>\n",
       "      <td>2.409522e-01</td>\n",
       "      <td>9.104512e-02</td>\n",
       "      <td>7.827995e-02</td>\n",
       "      <td>77.165000</td>\n",
       "      <td>0.000000</td>\n",
       "    </tr>\n",
       "    <tr>\n",
       "      <th>max</th>\n",
       "      <td>172792.000000</td>\n",
       "      <td>2.454930e+00</td>\n",
       "      <td>2.205773e+01</td>\n",
       "      <td>9.382558e+00</td>\n",
       "      <td>1.687534e+01</td>\n",
       "      <td>3.480167e+01</td>\n",
       "      <td>7.330163e+01</td>\n",
       "      <td>1.205895e+02</td>\n",
       "      <td>2.000721e+01</td>\n",
       "      <td>1.559499e+01</td>\n",
       "      <td>...</td>\n",
       "      <td>2.720284e+01</td>\n",
       "      <td>1.050309e+01</td>\n",
       "      <td>2.252841e+01</td>\n",
       "      <td>4.584549e+00</td>\n",
       "      <td>7.519589e+00</td>\n",
       "      <td>3.517346e+00</td>\n",
       "      <td>3.161220e+01</td>\n",
       "      <td>3.384781e+01</td>\n",
       "      <td>25691.160000</td>\n",
       "      <td>1.000000</td>\n",
       "    </tr>\n",
       "  </tbody>\n",
       "</table>\n",
       "<p>8 rows × 31 columns</p>\n",
       "</div>"
      ],
      "text/plain": [
       "                Time            V1            V2            V3            V4  \\\n",
       "count  284807.000000  2.848070e+05  2.848070e+05  2.848070e+05  2.848070e+05   \n",
       "mean    94813.859575  3.919560e-15  5.688174e-16 -8.769071e-15  2.782312e-15   \n",
       "std     47488.145955  1.958696e+00  1.651309e+00  1.516255e+00  1.415869e+00   \n",
       "min         0.000000 -5.640751e+01 -7.271573e+01 -4.832559e+01 -5.683171e+00   \n",
       "25%     54201.500000 -9.203734e-01 -5.985499e-01 -8.903648e-01 -8.486401e-01   \n",
       "50%     84692.000000  1.810880e-02  6.548556e-02  1.798463e-01 -1.984653e-02   \n",
       "75%    139320.500000  1.315642e+00  8.037239e-01  1.027196e+00  7.433413e-01   \n",
       "max    172792.000000  2.454930e+00  2.205773e+01  9.382558e+00  1.687534e+01   \n",
       "\n",
       "                 V5            V6            V7            V8            V9  \\\n",
       "count  2.848070e+05  2.848070e+05  2.848070e+05  2.848070e+05  2.848070e+05   \n",
       "mean  -1.552563e-15  2.010663e-15 -1.694249e-15 -1.927028e-16 -3.137024e-15   \n",
       "std    1.380247e+00  1.332271e+00  1.237094e+00  1.194353e+00  1.098632e+00   \n",
       "min   -1.137433e+02 -2.616051e+01 -4.355724e+01 -7.321672e+01 -1.343407e+01   \n",
       "25%   -6.915971e-01 -7.682956e-01 -5.540759e-01 -2.086297e-01 -6.430976e-01   \n",
       "50%   -5.433583e-02 -2.741871e-01  4.010308e-02  2.235804e-02 -5.142873e-02   \n",
       "75%    6.119264e-01  3.985649e-01  5.704361e-01  3.273459e-01  5.971390e-01   \n",
       "max    3.480167e+01  7.330163e+01  1.205895e+02  2.000721e+01  1.559499e+01   \n",
       "\n",
       "           ...                 V21           V22           V23           V24  \\\n",
       "count      ...        2.848070e+05  2.848070e+05  2.848070e+05  2.848070e+05   \n",
       "mean       ...        1.537294e-16  7.959909e-16  5.367590e-16  4.458112e-15   \n",
       "std        ...        7.345240e-01  7.257016e-01  6.244603e-01  6.056471e-01   \n",
       "min        ...       -3.483038e+01 -1.093314e+01 -4.480774e+01 -2.836627e+00   \n",
       "25%        ...       -2.283949e-01 -5.423504e-01 -1.618463e-01 -3.545861e-01   \n",
       "50%        ...       -2.945017e-02  6.781943e-03 -1.119293e-02  4.097606e-02   \n",
       "75%        ...        1.863772e-01  5.285536e-01  1.476421e-01  4.395266e-01   \n",
       "max        ...        2.720284e+01  1.050309e+01  2.252841e+01  4.584549e+00   \n",
       "\n",
       "                V25           V26           V27           V28         Amount  \\\n",
       "count  2.848070e+05  2.848070e+05  2.848070e+05  2.848070e+05  284807.000000   \n",
       "mean   1.453003e-15  1.699104e-15 -3.660161e-16 -1.206049e-16      88.349619   \n",
       "std    5.212781e-01  4.822270e-01  4.036325e-01  3.300833e-01     250.120109   \n",
       "min   -1.029540e+01 -2.604551e+00 -2.256568e+01 -1.543008e+01       0.000000   \n",
       "25%   -3.171451e-01 -3.269839e-01 -7.083953e-02 -5.295979e-02       5.600000   \n",
       "50%    1.659350e-02 -5.213911e-02  1.342146e-03  1.124383e-02      22.000000   \n",
       "75%    3.507156e-01  2.409522e-01  9.104512e-02  7.827995e-02      77.165000   \n",
       "max    7.519589e+00  3.517346e+00  3.161220e+01  3.384781e+01   25691.160000   \n",
       "\n",
       "               Class  \n",
       "count  284807.000000  \n",
       "mean        0.001727  \n",
       "std         0.041527  \n",
       "min         0.000000  \n",
       "25%         0.000000  \n",
       "50%         0.000000  \n",
       "75%         0.000000  \n",
       "max         1.000000  \n",
       "\n",
       "[8 rows x 31 columns]"
      ]
     },
     "execution_count": 37,
     "metadata": {},
     "output_type": "execute_result"
    }
   ],
   "source": [
    "data.describe()"
   ]
  },
  {
   "cell_type": "markdown",
   "metadata": {
    "colab_type": "text",
    "id": "6gSTHiOJfqb2"
   },
   "source": [
    "**2. Посмотреть отсутствующие значения (какое количество Nan элементов).**"
   ]
  },
  {
   "cell_type": "code",
   "execution_count": 7,
   "metadata": {},
   "outputs": [
    {
     "name": "stdout",
     "output_type": "stream",
     "text": [
      "Кол-во отсутствующих значений -  0\n"
     ]
    }
   ],
   "source": [
    "print('Кол-во отсутствующих значений - ',data.isnull().sum().sum())"
   ]
  },
  {
   "cell_type": "markdown",
   "metadata": {
    "colab_type": "text",
    "id": "OFDGPbTpf7wn"
   },
   "source": [
    "**3. Основное таргет значение: 1 - сделка была обманной, 0 - честной. Сделать график barplot для этих двух классов из колонки 'Class'. Посчитать количество элементов в классе 1 и в классе 2.**"
   ]
  },
  {
   "cell_type": "code",
   "execution_count": 11,
   "metadata": {},
   "outputs": [
    {
     "name": "stdout",
     "output_type": "stream",
     "text": [
      "0    284315\n",
      "1       492\n",
      "Name: Class, dtype: int64\n"
     ]
    },
    {
     "data": {
      "text/plain": [
       "<matplotlib.axes._subplots.AxesSubplot at 0x19e9e721dd8>"
      ]
     },
     "execution_count": 11,
     "metadata": {},
     "output_type": "execute_result"
    },
    {
     "data": {
      "image/png": "[encoded data removed]",
      "text/plain": [
       "<Figure size 432x288 with 1 Axes>"
      ]
     },
     "metadata": {},
     "output_type": "display_data"
    }
   ],
   "source": [
    "print(data.Class.value_counts())\n",
    "data.Class.value_counts().plot(kind = 'bar')"
   ]
  },
  {
   "cell_type": "markdown",
   "metadata": {
    "colab_type": "text",
    "id": "lSsrxdWNhEbt"
   },
   "source": [
    "**4. Сколько денег было использовано в обманных операциях, а сколько - в нормальных операциях?** Сделать частотный график по колонке Amount для колонки Class по двум независимым выборкам: обманная операция, нормальная операция"
   ]
  },
  {
   "cell_type": "code",
   "execution_count": 33,
   "metadata": {},
   "outputs": [
    {
     "name": "stdout",
     "output_type": "stream",
     "text": [
      "Объем денег в нормальных операциях - 25102462.04\n",
      "Объем денег в обманных операциях - 60127.97\n"
     ]
    }
   ],
   "source": [
    "x,y = data.groupby('Class')['Amount'].sum()\n",
    "print('Объем денег в нормальных операциях - {:.2f}'.format(x))\n",
    "print('Объем денег в обманных операциях - {:.2f}'.format(y))"
   ]
  },
  {
   "cell_type": "code",
   "execution_count": 20,
   "metadata": {},
   "outputs": [
    {
     "data": {
      "image/png": "[encoded data removed]",
      "text/plain": [
       "<Figure size 432x288 with 1 Axes>"
      ]
     },
     "metadata": {},
     "output_type": "display_data"
    }
   ],
   "source": [
    "sns.distplot(data.Amount[data.Class == 0])\n",
    "plt.title('Частотный график для реальных операций')\n",
    "plt.show()"
   ]
  },
  {
   "cell_type": "code",
   "execution_count": 22,
   "metadata": {},
   "outputs": [
    {
     "data": {
      "image/png": "[encoded data removed]",
      "text/plain": [
       "<Figure size 432x288 with 1 Axes>"
      ]
     },
     "metadata": {},
     "output_type": "display_data"
    }
   ],
   "source": [
    "sns.distplot(data.Amount[data.Class == 1])\n",
    "plt.title('Частотный график для обманных операций')\n",
    "plt.show()"
   ]
  },
  {
   "cell_type": "markdown",
   "metadata": {
    "colab_type": "text",
    "id": "ZvLC_vQXiP0N"
   },
   "source": [
    "**5. Построить графики histograms для всех значений**"
   ]
  },
  {
   "cell_type": "code",
   "execution_count": 35,
   "metadata": {},
   "outputs": [
    {
     "data": {
      "image/png": "[encoded data removed]",
      "text/plain": [
       "<Figure size 1224x1224 with 36 Axes>"
      ]
     },
     "metadata": {},
     "output_type": "display_data"
    }
   ],
   "source": [
    "data.hist(figsize=(17,17),bins='auto')\n",
    "plt.show()"
   ]
  },
  {
   "cell_type": "markdown",
   "metadata": {
    "colab_type": "text",
    "id": "APD2wPSpi_eH"
   },
   "source": [
    "**6. Построить матрицу корреляций для всех значений**"
   ]
  },
  {
   "cell_type": "code",
   "execution_count": 48,
   "metadata": {},
   "outputs": [
    {
     "data": {
      "text/plain": [
       "<matplotlib.axes._subplots.AxesSubplot at 0x19eb70fca90>"
      ]
     },
     "execution_count": 48,
     "metadata": {},
     "output_type": "execute_result"
    },
    {
     "data": {
      "image/png": "[encoded data removed]",
      "text/plain": [
       "<Figure size 432x288 with 2 Axes>"
      ]
     },
     "metadata": {},
     "output_type": "display_data"
    }
   ],
   "source": [
    "sns.heatmap(data.corr())"
   ]
  },
  {
   "cell_type": "code",
   "execution_count": 49,
   "metadata": {},
   "outputs": [
    {
     "name": "stdout",
     "output_type": "stream",
     "text": [
      "            Time            V1            V2            V3            V4  \\\n",
      "Time    1.000000  1.173963e-01 -1.059333e-02 -4.196182e-01 -1.052602e-01   \n",
      "V1      0.117396  1.000000e+00  4.697350e-17 -1.424390e-15  1.755316e-17   \n",
      "V2     -0.010593  4.697350e-17  1.000000e+00  2.512175e-16 -1.126388e-16   \n",
      "V3     -0.419618 -1.424390e-15  2.512175e-16  1.000000e+00 -3.416910e-16   \n",
      "V4     -0.105260  1.755316e-17 -1.126388e-16 -3.416910e-16  1.000000e+00   \n",
      "V5      0.173072  6.391162e-17 -2.039868e-16 -1.436514e-15 -1.940929e-15   \n",
      "V6     -0.063016  2.398071e-16  5.024680e-16  1.431581e-15 -2.712659e-16   \n",
      "V7      0.084714  1.991550e-15  3.966486e-16  2.168574e-15  1.556330e-16   \n",
      "V8     -0.036949 -9.490675e-17 -4.413984e-17  3.433113e-16  5.195643e-16   \n",
      "V9     -0.008660  2.169581e-16 -5.728718e-17 -4.233770e-16  3.859585e-16   \n",
      "V10     0.030617  7.433820e-17 -4.782388e-16  6.289267e-16  6.055490e-16   \n",
      "V11    -0.247689  2.438580e-16  9.468995e-16 -5.501758e-17 -2.083600e-16   \n",
      "V12     0.124348  2.422086e-16 -6.588252e-16  2.206522e-16 -5.657963e-16   \n",
      "V13    -0.065902 -2.115458e-16  3.854521e-16 -6.883375e-16 -1.506129e-16   \n",
      "V14    -0.098757  9.352582e-16 -2.541036e-16  4.271336e-16 -8.522435e-17   \n",
      "V15    -0.183453 -3.252451e-16  2.831060e-16  1.122756e-16 -1.507718e-16   \n",
      "V16     0.011903  6.308789e-16  4.934097e-17  1.183364e-15 -6.939204e-16   \n",
      "V17    -0.073297 -5.011524e-16 -9.883008e-16  4.576619e-17 -4.397925e-16   \n",
      "V18     0.090438  2.870125e-16  2.636654e-16  5.427965e-16  1.493667e-16   \n",
      "V19     0.028975  1.818128e-16  9.528280e-17  2.576773e-16 -2.656938e-16   \n",
      "V20    -0.050866  1.036959e-16 -9.309954e-16 -9.429297e-16 -3.223123e-16   \n",
      "V21     0.044736 -1.755072e-16  8.444409e-17 -2.971969e-17 -9.976950e-17   \n",
      "V22     0.144059  7.477367e-17  2.500830e-16  4.648259e-16  2.099922e-16   \n",
      "V23     0.051142  9.808705e-16  1.059562e-16  2.115206e-17  6.002528e-17   \n",
      "V24    -0.016182  7.354269e-17 -8.142354e-18 -9.351637e-17  2.229738e-16   \n",
      "V25    -0.233083 -9.805358e-16 -4.261894e-17  4.771164e-16  5.394585e-16   \n",
      "V26    -0.041407 -8.621897e-17  2.601622e-16  6.521501e-16 -6.179751e-16   \n",
      "V27    -0.005135  3.208233e-17 -4.478472e-16  6.239832e-16 -6.403423e-17   \n",
      "V28    -0.009413  9.820892e-16 -3.676415e-16  7.726948e-16 -5.863664e-17   \n",
      "Amount -0.010596 -2.277087e-01 -5.314089e-01 -2.108805e-01  9.873167e-02   \n",
      "Class  -0.012323 -1.013473e-01  9.128865e-02 -1.929608e-01  1.334475e-01   \n",
      "\n",
      "                  V5            V6            V7            V8            V9  \\\n",
      "Time    1.730721e-01 -6.301647e-02  8.471437e-02 -3.694943e-02 -8.660434e-03   \n",
      "V1      6.391162e-17  2.398071e-16  1.991550e-15 -9.490675e-17  2.169581e-16   \n",
      "V2     -2.039868e-16  5.024680e-16  3.966486e-16 -4.413984e-17 -5.728718e-17   \n",
      "V3     -1.436514e-15  1.431581e-15  2.168574e-15  3.433113e-16 -4.233770e-16   \n",
      "V4     -1.940929e-15 -2.712659e-16  1.556330e-16  5.195643e-16  3.859585e-16   \n",
      "V5      1.000000e+00  7.926364e-16 -4.209851e-16  7.589187e-16  4.205206e-16   \n",
      "V6      7.926364e-16  1.000000e+00  1.429426e-16 -1.707421e-16  1.114447e-16   \n",
      "V7     -4.209851e-16  1.429426e-16  1.000000e+00 -8.691834e-17  7.933251e-16   \n",
      "V8      7.589187e-16 -1.707421e-16 -8.691834e-17  1.000000e+00  2.900829e-16   \n",
      "V9      4.205206e-16  1.114447e-16  7.933251e-16  2.900829e-16  1.000000e+00   \n",
      "V10    -6.601716e-16  2.850776e-16  3.043333e-17  9.051847e-17 -2.771761e-16   \n",
      "V11     7.342759e-16  4.865799e-16 -1.084105e-15  1.954747e-16  4.682341e-16   \n",
      "V12     3.761033e-16  2.140589e-16  1.510045e-15 -6.266057e-17 -2.445230e-15   \n",
      "V13    -9.578659e-16 -2.268061e-16 -9.892325e-17 -2.382948e-16 -2.650351e-16   \n",
      "V14    -3.634803e-16  3.452801e-16 -1.729462e-16 -1.131098e-16  2.343317e-16   \n",
      "V15    -5.132620e-16 -6.368111e-18  1.936832e-17  2.021491e-16 -1.588105e-15   \n",
      "V16    -3.517076e-16 -2.477917e-16  2.893672e-16  5.027192e-16 -3.251906e-16   \n",
      "V17     1.425729e-16  3.567582e-16  1.149692e-15 -3.508777e-16  6.535992e-16   \n",
      "V18     1.109525e-15  2.811474e-16 -1.116789e-16 -4.093852e-16  1.203843e-16   \n",
      "V19    -3.138234e-16  2.717167e-16 -2.874017e-16 -5.339821e-16  1.120752e-16   \n",
      "V20     2.076048e-16  1.898638e-16  1.744242e-16 -1.095534e-16 -4.340941e-16   \n",
      "V21    -1.368701e-16 -1.575903e-16  1.938604e-16 -2.412439e-16  4.578389e-17   \n",
      "V22     5.060029e-16 -3.362902e-16 -1.058131e-15  5.475559e-16  2.871855e-17   \n",
      "V23     1.637596e-16 -7.232186e-17  2.327911e-16  3.897104e-16  5.929286e-16   \n",
      "V24    -9.286095e-16 -1.261867e-15 -2.589727e-17 -1.802967e-16 -2.346385e-16   \n",
      "V25     5.625102e-16  1.081933e-15  1.174169e-15 -1.390791e-16  1.099645e-15   \n",
      "V26     9.144690e-16 -2.378414e-16 -7.334507e-16 -1.209975e-16 -1.388725e-15   \n",
      "V27     4.465960e-16 -2.623818e-16 -5.886825e-16  1.733633e-16 -2.287414e-16   \n",
      "V28    -3.299167e-16  4.813155e-16 -6.836764e-17 -4.484325e-16  9.146779e-16   \n",
      "Amount -3.863563e-01  2.159812e-01  3.973113e-01 -1.030791e-01 -4.424560e-02   \n",
      "Class  -9.497430e-02 -4.364316e-02 -1.872566e-01  1.987512e-02 -9.773269e-02   \n",
      "\n",
      "          ...              V21           V22           V23           V24  \\\n",
      "Time      ...     4.473573e-02  1.440591e-01  5.114236e-02 -1.618187e-02   \n",
      "V1        ...    -1.755072e-16  7.477367e-17  9.808705e-16  7.354269e-17   \n",
      "V2        ...     8.444409e-17  2.500830e-16  1.059562e-16 -8.142354e-18   \n",
      "V3        ...    -2.971969e-17  4.648259e-16  2.115206e-17 -9.351637e-17   \n",
      "V4        ...    -9.976950e-17  2.099922e-16  6.002528e-17  2.229738e-16   \n",
      "V5        ...    -1.368701e-16  5.060029e-16  1.637596e-16 -9.286095e-16   \n",
      "V6        ...    -1.575903e-16 -3.362902e-16 -7.232186e-17 -1.261867e-15   \n",
      "V7        ...     1.938604e-16 -1.058131e-15  2.327911e-16 -2.589727e-17   \n",
      "V8        ...    -2.412439e-16  5.475559e-16  3.897104e-16 -1.802967e-16   \n",
      "V9        ...     4.578389e-17  2.871855e-17  5.929286e-16 -2.346385e-16   \n",
      "V10       ...     8.089504e-16 -6.707598e-16  3.809732e-16 -4.032806e-17   \n",
      "V11       ...    -3.911893e-16 -3.811640e-17  2.232007e-16  1.219849e-15   \n",
      "V12       ...     3.229576e-16 -5.903992e-16  1.392162e-16  4.901644e-16   \n",
      "V13       ...     9.499130e-17 -2.659710e-17 -5.884304e-16 -5.470547e-16   \n",
      "V14       ...     1.634141e-17  3.439699e-16  7.620728e-17  2.335749e-16   \n",
      "V15       ...     1.947458e-17 -8.936817e-16  1.119827e-16 -4.589689e-16   \n",
      "V16       ...    -3.927401e-16  3.878384e-17  8.519670e-16 -4.289239e-16   \n",
      "V17       ...    -7.753967e-16 -8.389703e-16  5.367784e-16 -5.543631e-17   \n",
      "V18       ...    -1.140973e-15 -8.662635e-17 -3.624236e-16 -1.126043e-16   \n",
      "V19       ...     4.032541e-16 -9.690436e-16  5.733798e-16  3.126716e-17   \n",
      "V20       ...    -1.120828e-15  1.105842e-15  4.986739e-16  1.637488e-16   \n",
      "V21       ...     1.000000e+00  3.905948e-15  6.127323e-16  1.298254e-16   \n",
      "V22       ...     3.905948e-15  1.000000e+00  3.130812e-16  1.150829e-17   \n",
      "V23       ...     6.127323e-16  3.130812e-16  1.000000e+00 -4.411271e-17   \n",
      "V24       ...     1.298254e-16  1.150829e-17 -4.411271e-17  1.000000e+00   \n",
      "V25       ...    -2.826293e-16 -6.078986e-16 -9.938362e-16  1.557318e-15   \n",
      "V26       ...    -4.907301e-16 -8.477050e-16  8.848700e-16  3.129195e-16   \n",
      "V27       ...    -1.033403e-15 -1.294910e-16  5.524044e-16 -3.736529e-16   \n",
      "V28       ...     5.132234e-16 -3.021376e-16  9.029821e-16 -2.259275e-16   \n",
      "Amount    ...     1.059989e-01 -6.480065e-02 -1.126326e-01  5.146217e-03   \n",
      "Class     ...     4.041338e-02  8.053175e-04 -2.685156e-03 -7.220907e-03   \n",
      "\n",
      "                 V25           V26           V27           V28    Amount  \\\n",
      "Time   -2.330828e-01 -4.140710e-02 -5.134591e-03 -9.412688e-03 -0.010596   \n",
      "V1     -9.805358e-16 -8.621897e-17  3.208233e-17  9.820892e-16 -0.227709   \n",
      "V2     -4.261894e-17  2.601622e-16 -4.478472e-16 -3.676415e-16 -0.531409   \n",
      "V3      4.771164e-16  6.521501e-16  6.239832e-16  7.726948e-16 -0.210880   \n",
      "V4      5.394585e-16 -6.179751e-16 -6.403423e-17 -5.863664e-17  0.098732   \n",
      "V5      5.625102e-16  9.144690e-16  4.465960e-16 -3.299167e-16 -0.386356   \n",
      "V6      1.081933e-15 -2.378414e-16 -2.623818e-16  4.813155e-16  0.215981   \n",
      "V7      1.174169e-15 -7.334507e-16 -5.886825e-16 -6.836764e-17  0.397311   \n",
      "V8     -1.390791e-16 -1.209975e-16  1.733633e-16 -4.484325e-16 -0.103079   \n",
      "V9      1.099645e-15 -1.388725e-15 -2.287414e-16  9.146779e-16 -0.044246   \n",
      "V10    -2.863813e-16 -2.554293e-16 -3.103239e-16 -1.515934e-16 -0.101502   \n",
      "V11    -4.567635e-16 -1.110976e-16 -2.635827e-16 -3.091914e-16  0.000104   \n",
      "V12     5.053736e-16 -5.759321e-16 -2.312619e-16  7.327446e-16 -0.009542   \n",
      "V13     8.066738e-17 -2.121518e-16 -4.520414e-16  1.049541e-15  0.005293   \n",
      "V14    -2.606783e-16 -6.580254e-18  1.285770e-16  2.503271e-15  0.033751   \n",
      "V15     3.869740e-16  3.761094e-16 -1.265235e-15 -1.063286e-15 -0.002986   \n",
      "V16    -6.644104e-16 -5.186503e-16  7.820038e-16  8.637186e-16 -0.003910   \n",
      "V17     4.822068e-16  4.870302e-16  8.844373e-16 -2.182692e-16  0.007309   \n",
      "V18    -2.310856e-16  3.183964e-16  2.435170e-16  8.844995e-16  0.035650   \n",
      "V19     7.415355e-16  5.614354e-16 -1.113035e-16 -1.375843e-15 -0.056151   \n",
      "V20    -1.518242e-16 -2.975081e-16 -1.446069e-15 -1.133579e-16  0.339403   \n",
      "V21    -2.826293e-16 -4.907301e-16 -1.033403e-15  5.132234e-16  0.105999   \n",
      "V22    -6.078986e-16 -8.477050e-16 -1.294910e-16 -3.021376e-16 -0.064801   \n",
      "V23    -9.938362e-16  8.848700e-16  5.524044e-16  9.029821e-16 -0.112633   \n",
      "V24     1.557318e-15  3.129195e-16 -3.736529e-16 -2.259275e-16  0.005146   \n",
      "V25     1.000000e+00  2.810884e-15 -6.107118e-16  3.399375e-16 -0.047837   \n",
      "V26     2.810884e-15  1.000000e+00 -3.383861e-16 -3.751403e-16 -0.003208   \n",
      "V27    -6.107118e-16 -3.383861e-16  1.000000e+00 -3.770124e-16  0.028825   \n",
      "V28     3.399375e-16 -3.751403e-16 -3.770124e-16  1.000000e+00  0.010258   \n",
      "Amount -4.783686e-02 -3.208037e-03  2.882546e-02  1.025822e-02  1.000000   \n",
      "Class   3.307706e-03  4.455398e-03  1.757973e-02  9.536041e-03  0.005632   \n",
      "\n",
      "           Class  \n",
      "Time   -0.012323  \n",
      "V1     -0.101347  \n",
      "V2      0.091289  \n",
      "V3     -0.192961  \n",
      "V4      0.133447  \n",
      "V5     -0.094974  \n",
      "V6     -0.043643  \n",
      "V7     -0.187257  \n",
      "V8      0.019875  \n",
      "V9     -0.097733  \n",
      "V10    -0.216883  \n",
      "V11     0.154876  \n",
      "V12    -0.260593  \n",
      "V13    -0.004570  \n",
      "V14    -0.302544  \n",
      "V15    -0.004223  \n",
      "V16    -0.196539  \n",
      "V17    -0.326481  \n",
      "V18    -0.111485  \n",
      "V19     0.034783  \n",
      "V20     0.020090  \n",
      "V21     0.040413  \n",
      "V22     0.000805  \n",
      "V23    -0.002685  \n",
      "V24    -0.007221  \n",
      "V25     0.003308  \n",
      "V26     0.004455  \n",
      "V27     0.017580  \n",
      "V28     0.009536  \n",
      "Amount  0.005632  \n",
      "Class   1.000000  \n",
      "\n",
      "[31 rows x 31 columns]\n",
      "Большая часть признаков почти не коррелирует между собой\n"
     ]
    }
   ],
   "source": [
    "print(data.corr())\n",
    "print('Большая часть признаков почти не коррелирует между собой')"
   ]
  },
  {
   "cell_type": "markdown",
   "metadata": {
    "colab_type": "text",
    "id": "gZwGybULjSUA"
   },
   "source": [
    "**7. Выбрать несколько элементов исходя из матрицы корреляций для предсказания таргет значения Class. Построить модель линейной регрессии. Разделить датасет на 80% тренировочных данных и 20% тестовых данных. Для fit метода использовать тренировочные данные, проверить качество модели на тестовых данных. Почему модель дает такой результат?**\n",
    "\n",
    "Для разделения на тренировочный датасет и тестовый датасет можно использовать функцию  из sklearn:\n",
    "\n",
    "from sklearn.cross_validation import train_test_split\n",
    "\n",
    "X_train, X_test, y_train, y_test = train_test_split(X,y,test_size = 0.2, random_state = 0)"
   ]
  },
  {
   "cell_type": "code",
   "execution_count": 128,
   "metadata": {},
   "outputs": [
    {
     "name": "stdout",
     "output_type": "stream",
     "text": [
      "Из матрицы корреляций выберем максимально коррелирующие с Target value признаки : V14, V17, V12, V7, V3, V4, V11, V19, V20\n"
     ]
    }
   ],
   "source": [
    "print('Из матрицы корреляций выберем максимально коррелирующие с Target value признаки : V14, V17, V12, V7, V3, V4, V11, V19, V20')"
   ]
  },
  {
   "cell_type": "code",
   "execution_count": 130,
   "metadata": {},
   "outputs": [
    {
     "data": {
      "text/plain": [
       "0.37275419593498854"
      ]
     },
     "execution_count": 130,
     "metadata": {},
     "output_type": "execute_result"
    }
   ],
   "source": [
    "model = LinearRegression()\n",
    "X = data[['V14', 'V17', 'V12', 'V7', 'V3', 'V4', 'V11', 'V19', 'V20']]\n",
    "y = data.Class\n",
    "\n",
    "X_train, X_test, y_train, y_test = train_test_split(X, y, test_size=0.20, random_state=42)\n",
    "train_model = model.fit(X_train, y_train)\n",
    "prediction = model.predict(X_test)\n",
    "model.score(X_test,y_test)"
   ]
  },
  {
   "cell_type": "code",
   "execution_count": null,
   "metadata": {},
   "outputs": [],
   "source": [
    "print('Качество модели очень низкое, на результат влияет большой дисбаланс в target value')"
   ]
  },
  {
   "cell_type": "markdown",
   "metadata": {
    "colab_type": "text",
    "id": "xb79RahXkBlM"
   },
   "source": [
    "**8. Чтобы уравновесить датасет по классу Class, выберем одинаковое количество элементов из датасета по классу.** Необходимо посчитать минимальное количество (N) элементов, посчитанное в задаче 3. Выбрать N элементов рандомно из класса, имеющего бОльшее количество элементов, и все элементы из класса имеющего меньшее количество. Таким образом, мы уравновесим датасет по количеству элементов. Смоделировать линейную регрессию на полученном датасете. Посчитать качество модели. Получилось ли улучшить модель? Если да, то засчет чего?"
   ]
  },
  {
   "cell_type": "code",
   "execution_count": 141,
   "metadata": {},
   "outputs": [
    {
     "data": {
      "text/plain": [
       "0.5573999978426204"
      ]
     },
     "execution_count": 141,
     "metadata": {},
     "output_type": "execute_result"
    }
   ],
   "source": [
    "sample = data[['V14', 'V17', 'V12', 'V7', 'V3', 'V4', 'V11', 'V19', 'V20','Class']].sample(n = len(data[data.Class == 1]), random_state = 777)\n",
    "sample = sample.append(data[['V14', 'V17', 'V12', 'V7', 'V3', 'V4', 'V11', 'V19', 'V20','Class']][data.Class == 1])\n",
    "\n",
    "model = LinearRegression()\n",
    "X = sample[['V14', 'V17', 'V12', 'V7', 'V3', 'V4', 'V11', 'V19', 'V20']]\n",
    "y = sample.Class\n",
    "\n",
    "X_train, X_test, y_train, y_test = train_test_split(X, y, test_size=0.20, random_state=42)\n",
    "train_model = model.fit(X_train, y_train)\n",
    "prediction = model.predict(X_test)\n",
    "model.score(X_test,y_test)"
   ]
  },
  {
   "cell_type": "code",
   "execution_count": 125,
   "metadata": {},
   "outputs": [
    {
     "name": "stdout",
     "output_type": "stream",
     "text": [
      "Модель показала значительно лучше результат. Т.е. при сбалансированной выборке классов их удается хорошо разделить по отобранным признакам\n"
     ]
    }
   ],
   "source": [
    "print('Модель показала лучше результат. Т.е. при сбалансированной выборке классов их удается лушче разделить по отобранным признакам')"
   ]
  },
  {
   "cell_type": "markdown",
   "metadata": {
    "colab_type": "text",
    "id": "cTJa7iw7nDh7"
   },
   "source": [
    "**9. Построить boxplot графики для 4ех негативно коррелирующих элементов и 4 позитивно коррелирующих элементов для полученного в шаге 8 датасете.** Пример boxplot:\n",
    "\n",
    "sns.boxplot(x=\"Class\", y=\"V17\", data=new_df, palette=colors, ax=axes[0])"
   ]
  },
  {
   "cell_type": "code",
   "execution_count": 168,
   "metadata": {},
   "outputs": [
    {
     "data": {
      "text/plain": [
       "<matplotlib.axes._subplots.AxesSubplot at 0x19eb0752f28>"
      ]
     },
     "execution_count": 168,
     "metadata": {},
     "output_type": "execute_result"
    },
    {
     "data": {
      "image/png": "[encoded data removed]",
      "text/plain": [
       "<Figure size 720x720 with 8 Axes>"
      ]
     },
     "metadata": {},
     "output_type": "display_data"
    }
   ],
   "source": [
    "columns = data[['V14', 'V17', 'V12', 'V7', 'V3', 'V4', 'V11', 'V19', 'V20','Class']].columns\n",
    "df = data[['V14', 'V17', 'V12', 'V7', 'V3', 'V4', 'V11', 'V19', 'V20','Class']]\n",
    "f, axes = plt.subplots(2, 4, figsize=(10, 10))\n",
    "\n",
    "sns.boxplot(x=\"Class\", y=\"V14\", data=df,ax = axes[0,0])\n",
    "sns.boxplot(x=\"Class\", y=\"V17\", data=df,ax = axes[0,1])\n",
    "sns.boxplot(x=\"Class\", y=\"V12\", data=df,ax = axes[0,2])\n",
    "sns.boxplot(x=\"Class\", y=\"V7\", data=df,ax = axes[0,3])\n",
    "sns.boxplot(x=\"Class\", y=\"V3\", data=df,ax = axes[1,0])\n",
    "sns.boxplot(x=\"Class\", y=\"V4\", data=df,ax = axes[1,1])\n",
    "sns.boxplot(x=\"Class\", y=\"V11\", data=df,ax = axes[1,2])\n",
    "sns.boxplot(x=\"Class\", y=\"V19\", data=df,ax = axes[1,3])"
   ]
  },
  {
   "cell_type": "markdown",
   "metadata": {
    "colab_type": "text",
    "id": "svlba8m_oDDp"
   },
   "source": [
    "**10. Из графиков, полученных на предыдущем шаге, убрать выбросы методом выборки элементов из интерквартильного интервала (взять только те элементы, которые находятся квартилем 0.25 и квартилем 0.75).** Посчитать качество модели и сравнить с предыдущим. Получилось ли улучшить модель? Почему?"
   ]
  },
  {
   "cell_type": "code",
   "execution_count": 183,
   "metadata": {
    "colab": {},
    "colab_type": "code",
    "id": "s6L7CnEhfZJ-"
   },
   "outputs": [
    {
     "data": {
      "text/html": [
       "<div>\n",
       "<style scoped>\n",
       "    .dataframe tbody tr th:only-of-type {\n",
       "        vertical-align: middle;\n",
       "    }\n",
       "\n",
       "    .dataframe tbody tr th {\n",
       "        vertical-align: top;\n",
       "    }\n",
       "\n",
       "    .dataframe thead th {\n",
       "        text-align: right;\n",
       "    }\n",
       "</style>\n",
       "<table border=\"1\" class=\"dataframe\">\n",
       "  <thead>\n",
       "    <tr style=\"text-align: right;\">\n",
       "      <th></th>\n",
       "      <th>V14</th>\n",
       "      <th>V17</th>\n",
       "      <th>V12</th>\n",
       "      <th>V7</th>\n",
       "      <th>V3</th>\n",
       "      <th>V4</th>\n",
       "      <th>V11</th>\n",
       "      <th>V19</th>\n",
       "      <th>V20</th>\n",
       "      <th>Class</th>\n",
       "    </tr>\n",
       "  </thead>\n",
       "  <tbody>\n",
       "    <tr>\n",
       "      <th>0</th>\n",
       "      <td>-0.311169</td>\n",
       "      <td>0.207971</td>\n",
       "      <td>NaN</td>\n",
       "      <td>0.239599</td>\n",
       "      <td>NaN</td>\n",
       "      <td>NaN</td>\n",
       "      <td>-0.551600</td>\n",
       "      <td>0.403993</td>\n",
       "      <td>NaN</td>\n",
       "      <td>0.0</td>\n",
       "    </tr>\n",
       "    <tr>\n",
       "      <th>1</th>\n",
       "      <td>-0.143772</td>\n",
       "      <td>-0.114805</td>\n",
       "      <td>NaN</td>\n",
       "      <td>-0.078803</td>\n",
       "      <td>0.16648</td>\n",
       "      <td>0.448154</td>\n",
       "      <td>NaN</td>\n",
       "      <td>-0.145783</td>\n",
       "      <td>-0.069083</td>\n",
       "      <td>0.0</td>\n",
       "    </tr>\n",
       "    <tr>\n",
       "      <th>2</th>\n",
       "      <td>-0.165946</td>\n",
       "      <td>NaN</td>\n",
       "      <td>0.066084</td>\n",
       "      <td>NaN</td>\n",
       "      <td>NaN</td>\n",
       "      <td>0.379780</td>\n",
       "      <td>0.624501</td>\n",
       "      <td>NaN</td>\n",
       "      <td>NaN</td>\n",
       "      <td>0.0</td>\n",
       "    </tr>\n",
       "    <tr>\n",
       "      <th>3</th>\n",
       "      <td>-0.287924</td>\n",
       "      <td>NaN</td>\n",
       "      <td>0.178228</td>\n",
       "      <td>0.237609</td>\n",
       "      <td>NaN</td>\n",
       "      <td>NaN</td>\n",
       "      <td>-0.226487</td>\n",
       "      <td>NaN</td>\n",
       "      <td>-0.208038</td>\n",
       "      <td>0.0</td>\n",
       "    </tr>\n",
       "    <tr>\n",
       "      <th>4</th>\n",
       "      <td>NaN</td>\n",
       "      <td>-0.237033</td>\n",
       "      <td>0.538196</td>\n",
       "      <td>NaN</td>\n",
       "      <td>NaN</td>\n",
       "      <td>0.403034</td>\n",
       "      <td>NaN</td>\n",
       "      <td>NaN</td>\n",
       "      <td>NaN</td>\n",
       "      <td>0.0</td>\n",
       "    </tr>\n",
       "  </tbody>\n",
       "</table>\n",
       "</div>"
      ],
      "text/plain": [
       "        V14       V17       V12        V7       V3        V4       V11  \\\n",
       "0 -0.311169  0.207971       NaN  0.239599      NaN       NaN -0.551600   \n",
       "1 -0.143772 -0.114805       NaN -0.078803  0.16648  0.448154       NaN   \n",
       "2 -0.165946       NaN  0.066084       NaN      NaN  0.379780  0.624501   \n",
       "3 -0.287924       NaN  0.178228  0.237609      NaN       NaN -0.226487   \n",
       "4       NaN -0.237033  0.538196       NaN      NaN  0.403034       NaN   \n",
       "\n",
       "        V19       V20  Class  \n",
       "0  0.403993       NaN    0.0  \n",
       "1 -0.145783 -0.069083    0.0  \n",
       "2       NaN       NaN    0.0  \n",
       "3       NaN -0.208038    0.0  \n",
       "4       NaN       NaN    0.0  "
      ]
     },
     "execution_count": 183,
     "metadata": {},
     "output_type": "execute_result"
    }
   ],
   "source": [
    "df = data[['V14', 'V17', 'V12', 'V7', 'V3', 'V4', 'V11', 'V19', 'V20','Class']]\n",
    "df2 = df[(df>=df.quantile(0.25,axis=0))&(df<=df.quantile(0.75,axis=0))]\n",
    "df2.head()"
   ]
  },
  {
   "cell_type": "code",
   "execution_count": 186,
   "metadata": {},
   "outputs": [],
   "source": [
    "df2 = df2.dropna()"
   ]
  },
  {
   "cell_type": "code",
   "execution_count": 187,
   "metadata": {},
   "outputs": [
    {
     "data": {
      "text/plain": [
       "1.0"
      ]
     },
     "execution_count": 187,
     "metadata": {},
     "output_type": "execute_result"
    }
   ],
   "source": [
    "model = LinearRegression()\n",
    "X = df2[['V14', 'V17', 'V12', 'V7', 'V3', 'V4', 'V11', 'V19', 'V20']]\n",
    "y = df2.Class\n",
    "\n",
    "X_train, X_test, y_train, y_test = train_test_split(X, y, test_size=0.20, random_state=42)\n",
    "train_model = model.fit(X_train, y_train)\n",
    "prediction = model.predict(X_test)\n",
    "model.score(X_test,y_test)"
   ]
  },
  {
   "cell_type": "code",
   "execution_count": 191,
   "metadata": {},
   "outputs": [
    {
     "data": {
      "text/html": [
       "<div>\n",
       "<style scoped>\n",
       "    .dataframe tbody tr th:only-of-type {\n",
       "        vertical-align: middle;\n",
       "    }\n",
       "\n",
       "    .dataframe tbody tr th {\n",
       "        vertical-align: top;\n",
       "    }\n",
       "\n",
       "    .dataframe thead th {\n",
       "        text-align: right;\n",
       "    }\n",
       "</style>\n",
       "<table border=\"1\" class=\"dataframe\">\n",
       "  <thead>\n",
       "    <tr style=\"text-align: right;\">\n",
       "      <th></th>\n",
       "      <th>V14</th>\n",
       "      <th>V17</th>\n",
       "      <th>V12</th>\n",
       "      <th>V7</th>\n",
       "      <th>V3</th>\n",
       "      <th>V4</th>\n",
       "      <th>V11</th>\n",
       "      <th>V19</th>\n",
       "      <th>V20</th>\n",
       "      <th>Class</th>\n",
       "    </tr>\n",
       "  </thead>\n",
       "  <tbody>\n",
       "  </tbody>\n",
       "</table>\n",
       "</div>"
      ],
      "text/plain": [
       "Empty DataFrame\n",
       "Columns: [V14, V17, V12, V7, V3, V4, V11, V19, V20, Class]\n",
       "Index: []"
      ]
     },
     "execution_count": 191,
     "metadata": {},
     "output_type": "execute_result"
    }
   ],
   "source": [
    "df2[df.Class == 1]"
   ]
  },
  {
   "cell_type": "code",
   "execution_count": 192,
   "metadata": {},
   "outputs": [
    {
     "name": "stdout",
     "output_type": "stream",
     "text": [
      "Модель смогла точно определить тип операции, потому что все обманные операции выпали из новой выборки. Т.е. обманные операции сильно отличаются от регулярных операций\n"
     ]
    }
   ],
   "source": [
    "print('Модель смогла точно определить тип операции, потому что все обманные операции выпали из новой выборки. Т.е. обманные операции сильно отличаются от регулярных операций')"
   ]
  },
  {
   "cell_type": "code",
   "execution_count": null,
   "metadata": {},
   "outputs": [],
   "source": []
  }
 ],
 "metadata": {
  "colab": {
   "name": "Untitled19.ipynb",
   "provenance": [],
   "version": "0.3.2"
  },
  "kernelspec": {
   "display_name": "Python 3",
   "language": "python",
   "name": "python3"
  },
  "language_info": {
   "codemirror_mode": {
    "name": "ipython",
    "version": 3
   },
   "file_extension": ".py",
   "mimetype": "text/x-python",
   "name": "python",
   "nbconvert_exporter": "python",
   "pygments_lexer": "ipython3",
   "version": "3.6.5"
  }
 },
 "nbformat": 4,
 "nbformat_minor": 1
}
