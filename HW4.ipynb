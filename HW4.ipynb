{
 "cells": [
  {
   "cell_type": "markdown",
   "metadata": {},
   "source": [
    "1.Напишите функцию date_range, которая возвращает список дней между датами start_date и end_date. Даты должны вводиться в формате YYYY-MM-DD."
   ]
  },
  {
   "cell_type": "code",
   "execution_count": 8,
   "metadata": {},
   "outputs": [
    {
     "name": "stdout",
     "output_type": "stream",
     "text": [
      "2019-05-01\n",
      "2019-05-02\n",
      "2019-05-03\n",
      "2019-05-04\n",
      "2019-05-05\n",
      "2019-05-06\n",
      "2019-05-07\n",
      "2019-05-08\n",
      "2019-05-09\n",
      "2019-05-10\n",
      "2019-05-11\n",
      "2019-05-12\n",
      "2019-05-13\n",
      "2019-05-14\n",
      "2019-05-15\n",
      "2019-05-16\n",
      "2019-05-17\n",
      "2019-05-18\n",
      "2019-05-19\n",
      "2019-05-20\n",
      "2019-05-21\n",
      "2019-05-22\n",
      "2019-05-23\n",
      "2019-05-24\n",
      "2019-05-25\n",
      "2019-05-26\n",
      "2019-05-27\n",
      "2019-05-28\n",
      "2019-05-29\n",
      "2019-05-30\n"
     ]
    }
   ],
   "source": [
    "from datetime import datetime as dt\n",
    "from datetime import timedelta\n",
    "\n",
    "start_date = '2019-05-01'\n",
    "end_date = '2019-05-31'\n",
    "\n",
    "def date_range(start_date, end_date):\n",
    "    start_date = dt.strptime(start_date, '%Y-%m-%d')\n",
    "    end_date = dt.strptime(end_date, '%Y-%m-%d')\n",
    "    \n",
    "    while start_date < end_date:\n",
    "        print(dt.strftime(start_date, '%Y-%m-%d'))\n",
    "        start_date +=  timedelta(days = 1)\n",
    "\n",
    "date_range(start_date, end_date)\n",
    "    "
   ]
  },
  {
   "cell_type": "markdown",
   "metadata": {},
   "source": [
    "2.Дополните функцию из первого задания проверкой на корректность дат. В случае неверного формата или если start_date > end_date должен возвращаться пустой список."
   ]
  },
  {
   "cell_type": "code",
   "execution_count": 14,
   "metadata": {},
   "outputs": [
    {
     "data": {
      "text/plain": [
       "[]"
      ]
     },
     "execution_count": 14,
     "metadata": {},
     "output_type": "execute_result"
    }
   ],
   "source": [
    "from datetime import datetime as dt\n",
    "from datetime import timedelta\n",
    "\n",
    "start_date = '2019-05t-01'\n",
    "end_date = '2019-05-31'\n",
    "\n",
    "def date_range(start_date, end_date):\n",
    "    if start_date > end_date:\n",
    "        return([])\n",
    "    else:\n",
    "        try:\n",
    "            start_date = dt.strptime(start_date, '%Y-%m-%d')\n",
    "            end_date = dt.strptime(end_date, '%Y-%m-%d')\n",
    "\n",
    "            while start_date < end_date:\n",
    "                print(dt.strftime(start_date, '%Y-%m-%d'))\n",
    "                start_date +=  timedelta(days = 1)\n",
    "        except:\n",
    "            return([])\n",
    "date_range(start_date, end_date)"
   ]
  },
  {
   "cell_type": "markdown",
   "metadata": {},
   "source": [
    "3.Дан поток дат в формате YYYY-MM-DD, в которых встречаются некорректные значения:\n",
    "stream = [‘2018-04-02’, ‘2018-02-29’, ‘2018-19-02’]\n",
    "Напишите функцию, которая проверяет эти даты на корректность. Т. е. для каждой даты возвращает True (дата корректна) или False (некорректная дата)."
   ]
  },
  {
   "cell_type": "code",
   "execution_count": 18,
   "metadata": {},
   "outputs": [
    {
     "name": "stdout",
     "output_type": "stream",
     "text": [
      "True\n",
      "False\n",
      "False\n"
     ]
    }
   ],
   "source": [
    "from datetime import datetime as dt\n",
    "\n",
    "stream = ['2018-04-02', '2018-02-29', '2018-19-02']\n",
    "\n",
    "def check_date(x):\n",
    "    for i in x:\n",
    "        try:\n",
    "            dt.strptime(i, '%Y-%m-%d')\n",
    "            print('True')\n",
    "        except:\n",
    "            print('False')\n",
    "\n",
    "check_date(stream)"
   ]
  },
  {
   "cell_type": "markdown",
   "metadata": {},
   "source": [
    "4.Напишите функцию, которая возвращает список дат с 1 по вчерашний день текущего месяца. Если дан 1 день месяца, то возвращается список дней прошлого месяца."
   ]
  },
  {
   "cell_type": "code",
   "execution_count": 57,
   "metadata": {},
   "outputs": [
    {
     "name": "stdout",
     "output_type": "stream",
     "text": [
      "2019-06-01\n",
      "2019-06-02\n",
      "2019-06-03\n",
      "2019-06-04\n"
     ]
    }
   ],
   "source": [
    "from datetime import datetime as dt\n",
    "from datetime import timedelta\n",
    "\n",
    "\n",
    "def date_list():\n",
    "    today = dt.today()\n",
    "    cur_month = today.month\n",
    "    cur_day = today.day\n",
    "    \n",
    "    if cur_day == 1:\n",
    "        last_day = today - timedelta(days = 1)\n",
    "        first_day = last_day.replace(day = 1)\n",
    "        while first_day <= last_day:\n",
    "            print(dt.strftime(first_day, '%Y-%m-%d'))\n",
    "            first_day += timedelta(days = 1)\n",
    "    else:\n",
    "        first_day = today.replace(day = 1)\n",
    "        while first_day <= today:\n",
    "            print(dt.strftime(first_day, '%Y-%m-%d'))\n",
    "            first_day += timedelta(days = 1)\n",
    "    \n",
    "date_list()"
   ]
  }
 ],
 "metadata": {
  "kernelspec": {
   "display_name": "Python 3",
   "language": "python",
   "name": "python3"
  }
 },
 "nbformat": 4,
 "nbformat_minor": 2
}
